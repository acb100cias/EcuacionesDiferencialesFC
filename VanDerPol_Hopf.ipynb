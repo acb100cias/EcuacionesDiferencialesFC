{
  "nbformat": 4,
  "nbformat_minor": 0,
  "metadata": {
    "colab": {
      "private_outputs": true,
      "provenance": [],
      "toc_visible": true,
      "authorship_tag": "ABX9TyPTqI9wHkwpzOPLtxzYBz1Z",
      "include_colab_link": true
    },
    "kernelspec": {
      "name": "python3",
      "display_name": "Python 3"
    },
    "language_info": {
      "name": "python"
    }
  },
  "cells": [
    {
      "cell_type": "markdown",
      "metadata": {
        "id": "view-in-github",
        "colab_type": "text"
      },
      "source": [
        "<a href=\"https://colab.research.google.com/github/acb100cias/EcuacionesDiferencialesFC/blob/master/VanDerPol_Hopf.ipynb\" target=\"_parent\"><img src=\"https://colab.research.google.com/assets/colab-badge.svg\" alt=\"Open In Colab\"/></a>"
      ]
    },
    {
      "cell_type": "code",
      "execution_count": null,
      "metadata": {
        "id": "wqENeasQRJku"
      },
      "outputs": [],
      "source": [
        "from numpy import *\n",
        "from scipy.integrate import odeint\n",
        "from matplotlib.pyplot import *"
      ]
    },
    {
      "cell_type": "code",
      "source": [
        "dt=0.01"
      ],
      "metadata": {
        "id": "6gDlBvACRcDB"
      },
      "execution_count": null,
      "outputs": []
    },
    {
      "cell_type": "code",
      "source": [
        "def inicializa():\n",
        "  global x, xresult, y, yresult\n",
        "  x=y=0.1\n",
        "  xresult=[x]\n",
        "  yresult=[y]\n",
        "\n",
        "\n"
      ],
      "metadata": {
        "id": "jaHD3SDzSZXK"
      },
      "execution_count": null,
      "outputs": []
    },
    {
      "cell_type": "code",
      "source": [
        "def observa():\n",
        "  global x, xresult, y, yresult\n",
        "  xresult.append(x)\n",
        "  yresult.append(y)\n",
        "\n"
      ],
      "metadata": {
        "id": "a2kYjL2rSvFc"
      },
      "execution_count": null,
      "outputs": []
    },
    {
      "cell_type": "code",
      "source": [
        "def actualiza():\n",
        "  global x, xresult, y, yresult\n",
        "  nextx=x+y*dt\n",
        "  nexty=y+(-mu*(x**2-1)*y-x)*dt\n",
        "  x,y=nextx,nexty"
      ],
      "metadata": {
        "id": "30EeApxNS952"
      },
      "execution_count": null,
      "outputs": []
    },
    {
      "cell_type": "code",
      "source": [
        "def planofase():\n",
        "  inicializa()\n",
        "  for t in range(10000):\n",
        "    actualiza()\n",
        "    observa()\n",
        "  plot(xresult,yresult)\n",
        "  axis('image')\n",
        "  axis([-3,3,-3,3])\n",
        "  title(r'$\\mu =$'+str(mu))\n"
      ],
      "metadata": {
        "id": "pwrEcMbJTgCm"
      },
      "execution_count": null,
      "outputs": []
    },
    {
      "cell_type": "code",
      "source": [
        "mus=[-2,-1,-0.5,0,0.1,0.5,1,1.5]\n",
        "for i in range(len(mus)):\n",
        "  subplot(1,len(mus),i+1)\n",
        "  mu=mus[i]\n",
        "  planofase()\n"
      ],
      "metadata": {
        "id": "jb8XslNbUes1"
      },
      "execution_count": null,
      "outputs": []
    },
    {
      "cell_type": "code",
      "source": [],
      "metadata": {
        "id": "IKO4x1LGU4FS"
      },
      "execution_count": null,
      "outputs": []
    }
  ]
}