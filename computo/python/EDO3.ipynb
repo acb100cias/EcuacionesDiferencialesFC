{
 "cells": [
  {
   "cell_type": "code",
   "execution_count": 1,
   "id": "6b11d174-d8a0-46f2-a3c5-64f704996e00",
   "metadata": {
    "tags": []
   },
   "outputs": [],
   "source": [
    "import sympy as sp"
   ]
  },
  {
   "cell_type": "code",
   "execution_count": 2,
   "id": "4679d5a5-fb00-4bdd-b42e-59934c06209c",
   "metadata": {
    "tags": []
   },
   "outputs": [],
   "source": [
    "x=sp.Symbol('x')"
   ]
  },
  {
   "cell_type": "code",
   "execution_count": 12,
   "id": "0f7cac9b-4e01-4eae-9480-914cda7a463e",
   "metadata": {
    "tags": []
   },
   "outputs": [],
   "source": [
    "expr=x**2+1"
   ]
  },
  {
   "cell_type": "code",
   "execution_count": 13,
   "id": "768f45fb-2db7-4627-93e0-4dd37a8a4c3b",
   "metadata": {
    "tags": []
   },
   "outputs": [
    {
     "data": {
      "text/plain": [
       "[-I, I]"
      ]
     },
     "execution_count": 13,
     "metadata": {},
     "output_type": "execute_result"
    }
   ],
   "source": [
    "sp.solve(expr,x)"
   ]
  },
  {
   "cell_type": "code",
   "execution_count": 15,
   "id": "909aa3c4-39a8-44a1-ad04-57eee53c2c02",
   "metadata": {
    "tags": []
   },
   "outputs": [],
   "source": [
    "t=sp.Symbol('t')\n",
    "x=sp.Function('x')"
   ]
  },
  {
   "cell_type": "code",
   "execution_count": 19,
   "id": "2d7e4c35-a349-48fc-9e4c-3747ef54dfae",
   "metadata": {
    "tags": []
   },
   "outputs": [
    {
     "data": {
      "text/latex": [
       "$\\displaystyle x{\\left(t \\right)} = C_{1} e^{t}$"
      ],
      "text/plain": [
       "Eq(x(t), C1*exp(t))"
      ]
     },
     "execution_count": 19,
     "metadata": {},
     "output_type": "execute_result"
    }
   ],
   "source": [
    "sp.dsolve(sp.Derivative(x(t),t)-x(t),x(t))"
   ]
  },
  {
   "cell_type": "code",
   "execution_count": 21,
   "id": "0529e136-324d-4810-9065-57a2527ef116",
   "metadata": {
    "tags": []
   },
   "outputs": [
    {
     "data": {
      "text/latex": [
       "$\\displaystyle x{\\left(t \\right)} = \\frac{K e^{C_{1} K + r t}}{e^{C_{1} K + r t} - 1}$"
      ],
      "text/plain": [
       "Eq(x(t), K*exp(C1*K + r*t)/(exp(C1*K + r*t) - 1))"
      ]
     },
     "execution_count": 21,
     "metadata": {},
     "output_type": "execute_result"
    }
   ],
   "source": [
    "r=sp.Symbol('r')\n",
    "K=sp.Symbol('K')\n",
    "sp.dsolve(sp.Derivative(x(t),t)-r*x(t)*(1-x(t)/K),x(t))"
   ]
  },
  {
   "cell_type": "code",
   "execution_count": null,
   "id": "d934f5b0-b0b3-48b0-9c18-df686e5efe6b",
   "metadata": {},
   "outputs": [],
   "source": []
  }
 ],
 "metadata": {
  "kernelspec": {
   "display_name": "Python 3",
   "language": "python",
   "name": "python3"
  },
  "language_info": {
   "codemirror_mode": {
    "name": "ipython",
    "version": 3
   },
   "file_extension": ".py",
   "mimetype": "text/x-python",
   "name": "python",
   "nbconvert_exporter": "python",
   "pygments_lexer": "ipython3",
   "version": "3.9.2"
  }
 },
 "nbformat": 4,
 "nbformat_minor": 5
}
