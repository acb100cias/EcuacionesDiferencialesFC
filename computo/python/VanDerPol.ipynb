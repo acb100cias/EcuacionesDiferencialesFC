{
 "cells": [
  {
   "cell_type": "markdown",
   "metadata": {},
   "source": [
    "# Oscilador de Van Der Pol\n",
    "\n",
    "La ecuación diferencial de Van der Pol es\n",
    "\n",
    "$$\n",
    "\\frac{d^2 x}{dt^2} - \\mu (1-x^2) \\frac{dx}{dt} + x = 0\n",
    "$$\n",
    "\n",
    "La ecuación describe un sistema con amortiguamiento no lineal, el grado de no linealidad dado por $\\mu$. Si $\\mu = 0$, el sistema es lineal y no amortiguado, pero a medida que $\\mu$ aumenta, aumenta la fuerza de la no linealidad. Trazaremos el retrato de fase para la solución de la ecuación de Van der Pol en Python utilizando odeint.\n"
   ]
  },
  {
   "cell_type": "code",
   "execution_count": 4,
   "metadata": {},
   "outputs": [],
   "source": [
    "import numpy as np\n",
    "import matplotlib.pyplot as plt\n",
    "from scipy.integrate import odeint\n",
    "\n"
   ]
  },
  {
   "cell_type": "markdown",
   "metadata": {},
   "source": [
    "**Sugerencia** Haga experimentos para distintos valores de $\\mu$"
   ]
  },
  {
   "cell_type": "code",
   "execution_count": 5,
   "metadata": {},
   "outputs": [],
   "source": [
    "mu = 0.2\n",
    "\n",
    "def van_der_pol_oscillator_deriv(x, t):\n",
    "    nx0 = x[1]\n",
    "    nx1 = -mu * (x[0] ** 2.0 - 1.0) * x[1] - x[0]\n",
    "    res = np.array([nx0, nx1])\n",
    "    return res\n",
    "\n"
   ]
  },
  {
   "cell_type": "code",
   "execution_count": null,
   "metadata": {},
   "outputs": [],
   "source": [
    "ts = np.linspace(0.0, 50.0, 500)\n",
    "\n",
    "xs = odeint(van_der_pol_oscillator_deriv, [0.2, 0.2], ts)\n",
    "plt.plot(xs[:,0], xs[:,1])\n",
    "xs = odeint(van_der_pol_oscillator_deriv, [-3.0, -3.0], ts)\n",
    "plt.plot(xs[:,0], xs[:,1])\n",
    "xs = odeint(van_der_pol_oscillator_deriv, [4.0, 4.0], ts)\n",
    "plt.plot(xs[:,0], xs[:,1])\n",
    "plt.gca().set_aspect('equal')\n",
    "#plt.savefig('vanderpol_oscillator.png')\n",
    "plt.show() "
   ]
  },
  {
   "cell_type": "code",
   "execution_count": null,
   "metadata": {},
   "outputs": [],
   "source": []
  }
 ],
 "metadata": {
  "kernelspec": {
   "display_name": "Python 3",
   "language": "python",
   "name": "python3"
  },
  "language_info": {
   "codemirror_mode": {
    "name": "ipython",
    "version": 2
   },
   "file_extension": ".py",
   "mimetype": "text/x-python",
   "name": "python",
   "nbconvert_exporter": "python",
   "pygments_lexer": "ipython2",
   "version": "2.7.13"
  }
 },
 "nbformat": 4,
 "nbformat_minor": 2
}
